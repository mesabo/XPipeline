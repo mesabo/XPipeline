{
 "cells": [
  {
   "cell_type": "code",
   "execution_count": 7,
   "id": "bb785dc8",
   "metadata": {},
   "outputs": [
    {
     "name": "stdout",
     "output_type": "stream",
     "text": [
      "save: output/xpipe/runs/2025-08-24_14-38-33_demo_f641193b.jsonl\n",
      "metrics: output/xpipe/metrics/demo.csv\n",
      "  item judge    ok  score\n",
      "0   q1    on  True     17\n",
      "1   q2    on  True     17\n",
      "2   q1   off  True     18\n",
      "3   q2   off  True     18\n"
     ]
    }
   ],
   "source": [
    "import sys\n",
    "import os\n",
    "\n",
    "# Get the current notebook's directory (test/)\n",
    "notebook_dir = os.path.dirname(os.path.abspath(\"__file__\")) if \"__file__\" in globals() else os.getcwd()\n",
    "\n",
    "# Add the parent directory (project_root/) to sys.path\n",
    "parent_dir = os.path.dirname(notebook_dir)\n",
    "if parent_dir not in sys.path:\n",
    "    sys.path.insert(0, parent_dir)\n",
    "\n",
    "from xpipe.trace import Trace\n",
    "from xpipe.metrics import MetricLog\n",
    "from xpipe.attribution import ablate\n",
    "\n",
    "tr = Trace(\"demo\", {\"pipeline\":\"rag\"})\n",
    "with tr.span(\"retrieve\") as sp:\n",
    "    sp.log({\"k\": 3})\n",
    "with tr.span(\"synthesize\"):\n",
    "    tr.add_tokens(100, 42)\n",
    "print(\"save:\", tr.save())\n",
    "\n",
    "m = MetricLog()\n",
    "m.add(relevance=0.9, faithfulness=0.95, latency_ms=1234)\n",
    "print(\"metrics:\", m.save(\"output/xpipe/metrics/demo.csv\"))\n",
    "\n",
    "df = ablate(lambda x, **v: {\"ok\": True, \"score\": len(str(x))+len(str(v))}, [\"q1\",\"q2\"], {\"judge\":[\"on\",\"off\"]})\n",
    "print(df.head())\n"
   ]
  }
 ],
 "metadata": {
  "kernelspec": {
   "display_name": "llms",
   "language": "python",
   "name": "python3"
  },
  "language_info": {
   "codemirror_mode": {
    "name": "ipython",
    "version": 3
   },
   "file_extension": ".py",
   "mimetype": "text/x-python",
   "name": "python",
   "nbconvert_exporter": "python",
   "pygments_lexer": "ipython3",
   "version": "3.11.12"
  }
 },
 "nbformat": 4,
 "nbformat_minor": 5
}
